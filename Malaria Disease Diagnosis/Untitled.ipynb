{
 "cells": [
  {
   "cell_type": "code",
   "execution_count": 1,
   "id": "de99ca06",
   "metadata": {},
   "outputs": [],
   "source": [
    "from tensorflow import keras\n",
    "import numpy as np\n",
    "from PIL import Image"
   ]
  },
  {
   "cell_type": "code",
   "execution_count": 2,
   "id": "942bac3d",
   "metadata": {},
   "outputs": [],
   "source": [
    "model = keras.models.load_model('Malaria.h5')"
   ]
  },
  {
   "cell_type": "code",
   "execution_count": null,
   "id": "bcad3f88",
   "metadata": {},
   "outputs": [],
   "source": [
    "import tensorflow as tf\n",
    "import numpy as np\n",
    "from PIL import Image\n",
    "import matplotlib.pyplot as plt\n",
    "\n",
    "# Load a pre-trained DeepLabV3 model from TensorFlow Hub\n",
    "model_path = 'path_to_downloaded_model'  # Replace with the actual model path\n",
    "model = tf.keras.models.load_model(model_path)\n",
    "\n",
    "# Load and preprocess your satellite image\n",
    "image_path = 'path_to_your_satellite_image.jpg'  # Replace with the actual image path\n",
    "image = Image.open(image_path)\n",
    "image = image.resize((512, 512))\n",
    "image_array = np.array(image) / 255.0\n",
    "image_array = tf.expand_dims(image_array, 0)  # Add batch dimension\n",
    "\n",
    "# Perform inference\n",
    "predictions = model.predict(image_array)\n",
    "segmentation_map = tf.argmax(predictions, axis=-1)\n",
    "segmentation_map = segmentation_map[0, :, :, np.newaxis]\n",
    "\n",
    "# Post-process and visualize the segmentation map\n",
    "# Assuming you have a predefined color map for different classes\n",
    "color_map = np.array([\n",
    "    [0, 0, 0],        # Class 0: Background\n",
    "    [255, 255, 0],    # Class 1: Buildings\n",
    "    # Add more colors for other classes\n",
    "])\n",
    "\n",
    "# Apply color map to segmentation map\n",
    "segmentation_image = tf.squeeze(segmentation_map)\n",
    "colored_segmentation = color_map[segmentation_image]\n",
    "\n",
    "# Display the original and segmented images side by side\n",
    "plt.figure(figsize=(12, 6))\n",
    "plt.subplot(1, 2, 1)\n",
    "plt.imshow(image)\n",
    "plt.title('Original Image')\n",
    "plt.axis('off')\n",
    "\n",
    "plt.subplot(1, 2, 2)\n",
    "plt.imshow(colored_segmentation)\n",
    "plt.title('Segmented Image')\n",
    "plt.axis('off')\n",
    "\n",
    "plt.show()\n"
   ]
  }
 ],
 "metadata": {
  "kernelspec": {
   "display_name": "Python 3 (ipykernel)",
   "language": "python",
   "name": "python3"
  },
  "language_info": {
   "codemirror_mode": {
    "name": "ipython",
    "version": 3
   },
   "file_extension": ".py",
   "mimetype": "text/x-python",
   "name": "python",
   "nbconvert_exporter": "python",
   "pygments_lexer": "ipython3",
   "version": "3.11.4"
  }
 },
 "nbformat": 4,
 "nbformat_minor": 5
}
